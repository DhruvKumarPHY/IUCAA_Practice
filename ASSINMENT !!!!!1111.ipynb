{
 "cells": [
  {
   "cell_type": "code",
   "execution_count": 33,
   "id": "12ae4aea",
   "metadata": {},
   "outputs": [
    {
     "data": {
      "text/plain": [
       "511"
      ]
     },
     "execution_count": 33,
     "metadata": {},
     "output_type": "execute_result"
    }
   ],
   "source": [
    "#1 Generate a Randon number \n",
    "\n",
    "import random\n",
    "random.randint(0,1000)"
   ]
  },
  {
   "cell_type": "code",
   "execution_count": 34,
   "id": "dbc44273",
   "metadata": {},
   "outputs": [
    {
     "name": "stdout",
     "output_type": "stream",
     "text": [
      "Specify the Number of Randon Intengets You Want:5\n",
      "5\n"
     ]
    }
   ],
   "source": [
    "N = input(\"Specify the Number of Randon Intengets You Want:\")\n",
    "print(N)\n"
   ]
  },
  {
   "cell_type": "code",
   "execution_count": 35,
   "id": "7fa71ab5",
   "metadata": {},
   "outputs": [
    {
     "name": "stdout",
     "output_type": "stream",
     "text": [
      "220\n",
      "131\n",
      "180\n",
      "192\n",
      "428\n"
     ]
    }
   ],
   "source": [
    "n = int(N)\n",
    "\n",
    "for i in range(0,n):\n",
    "    a = random.randint(0,100*n)\n",
    "    print(a)\n"
   ]
  },
  {
   "cell_type": "code",
   "execution_count": 41,
   "id": "f3ffcf2e",
   "metadata": {},
   "outputs": [
    {
     "name": "stdout",
     "output_type": "stream",
     "text": [
      "The integer you want is there in list or not let as find out:4\n",
      "Found it\n"
     ]
    }
   ],
   "source": [
    "l1 = [1,2,3,4,5]\n",
    "\n",
    "a = input(\"The integer you want is there in list or not let as find out:\")\n",
    "\n",
    "if int(a) in l1:\n",
    "    print(\"Found it\")\n",
    "else:\n",
    "    print(\"Sorry no Found\")"
   ]
  },
  {
   "cell_type": "code",
   "execution_count": 53,
   "id": "56d81faa",
   "metadata": {},
   "outputs": [
    {
     "name": "stdout",
     "output_type": "stream",
     "text": [
      "Name of he student:a\n",
      "Name of he student:s\n",
      "Name of he student:d\n",
      "Name of he student:f\n",
      "Name of he student:g\n",
      "Macks of The Student:1\n",
      "Macks of The Student:2\n",
      "Macks of The Student:23\n",
      "Macks of The Student:4\n",
      "Macks of The Student:45\n"
     ]
    }
   ],
   "source": [
    "Name = []\n",
    "\n",
    "for i in range(0,5):\n",
    "    N = input(\"Name of he student:\")\n",
    "    Name.append(N)\n",
    "\n",
    "Macks=[]\n",
    "\n",
    "for i\n",
    "in range(0,5):\n",
    "    M= input(\"Macks of The Student:\")\n",
    "    Macks.append(M)\n",
    "    "
   ]
  },
  {
   "cell_type": "code",
   "execution_count": 54,
   "id": "48eb5b35",
   "metadata": {},
   "outputs": [
    {
     "data": {
      "text/plain": [
       "[('a', '1'), ('s', '2'), ('d', '23'), ('f', '4'), ('g', '45')]"
      ]
     },
     "execution_count": 54,
     "metadata": {},
     "output_type": "execute_result"
    }
   ],
   "source": [
    "mapped = zip(Name,Macks)\n",
    "list(mapped)"
   ]
  },
  {
   "cell_type": "code",
   "execution_count": 55,
   "id": "b3cffe3b",
   "metadata": {},
   "outputs": [
    {
     "data": {
      "text/plain": [
       "{'a': '1', 's': '2', 'd': '23', 'f': '4', 'g': '45'}"
      ]
     },
     "execution_count": 55,
     "metadata": {},
     "output_type": "execute_result"
    }
   ],
   "source": [
    "dict(zip(Name,Macks))"
   ]
  },
  {
   "cell_type": "code",
   "execution_count": 97,
   "id": "012d4cc7",
   "metadata": {},
   "outputs": [
    {
     "name": "stdout",
     "output_type": "stream",
     "text": [
      "0 number is Prime\n",
      "1 number is Prime\n",
      "2 number is Prime\n",
      "3 number is Prime\n",
      "4 Not Prime\n",
      "5 number is Prime\n",
      "6 Not Prime\n",
      "7 number is Prime\n",
      "8 Not Prime\n",
      "9 Not Prime\n",
      "10 Not Prime\n",
      "11 number is Prime\n",
      "12 Not Prime\n",
      "13 number is Prime\n",
      "14 Not Prime\n",
      "15 Not Prime\n",
      "16 Not Prime\n",
      "17 number is Prime\n",
      "18 Not Prime\n",
      "19 number is Prime\n",
      "20 Not Prime\n",
      "21 Not Prime\n",
      "22 Not Prime\n",
      "23 number is Prime\n",
      "24 Not Prime\n",
      "25 Not Prime\n",
      "26 Not Prime\n",
      "27 Not Prime\n",
      "28 Not Prime\n",
      "29 number is Prime\n",
      "30 Not Prime\n",
      "31 number is Prime\n",
      "32 Not Prime\n",
      "33 Not Prime\n",
      "34 Not Prime\n",
      "35 Not Prime\n",
      "36 Not Prime\n",
      "37 number is Prime\n",
      "38 Not Prime\n",
      "39 Not Prime\n",
      "40 Not Prime\n",
      "41 number is Prime\n",
      "42 Not Prime\n",
      "43 number is Prime\n",
      "44 Not Prime\n",
      "45 Not Prime\n",
      "46 Not Prime\n",
      "47 number is Prime\n",
      "48 Not Prime\n",
      "49 Not Prime\n",
      "50 Not Prime\n",
      "51 Not Prime\n",
      "52 Not Prime\n",
      "53 number is Prime\n",
      "54 Not Prime\n",
      "55 Not Prime\n",
      "56 Not Prime\n",
      "57 Not Prime\n",
      "58 Not Prime\n",
      "59 number is Prime\n",
      "60 Not Prime\n",
      "61 number is Prime\n",
      "62 Not Prime\n",
      "63 Not Prime\n",
      "64 Not Prime\n",
      "65 Not Prime\n",
      "66 Not Prime\n",
      "67 number is Prime\n",
      "68 Not Prime\n",
      "69 Not Prime\n",
      "70 Not Prime\n",
      "71 number is Prime\n",
      "72 Not Prime\n",
      "73 number is Prime\n",
      "74 Not Prime\n",
      "75 Not Prime\n",
      "76 Not Prime\n",
      "77 Not Prime\n",
      "78 Not Prime\n",
      "79 number is Prime\n",
      "80 Not Prime\n",
      "81 Not Prime\n",
      "82 Not Prime\n",
      "83 number is Prime\n",
      "84 Not Prime\n",
      "85 Not Prime\n",
      "86 Not Prime\n",
      "87 Not Prime\n",
      "88 Not Prime\n",
      "89 number is Prime\n",
      "90 Not Prime\n",
      "91 Not Prime\n",
      "92 Not Prime\n",
      "93 Not Prime\n",
      "94 Not Prime\n",
      "95 Not Prime\n",
      "96 Not Prime\n",
      "97 number is Prime\n",
      "98 Not Prime\n",
      "99 Not Prime\n"
     ]
    }
   ],
   "source": [
    "# For prime Number\n",
    "for n in range(0,100): \n",
    "        for i in range(2,int(n/2+1)):\n",
    "             if n % i == 0:\n",
    "                print(n,\"Not Prime\")\n",
    "                break\n",
    "        else:\n",
    "            print(n,\"number is Prime\")\n",
    "        "
   ]
  },
  {
   "cell_type": "code",
   "execution_count": 102,
   "id": "63031a5c",
   "metadata": {},
   "outputs": [
    {
     "name": "stdout",
     "output_type": "stream",
     "text": [
      "0\n",
      "1\n",
      "2\n",
      "3\n",
      "4\n",
      "5\n",
      "6\n",
      "7\n",
      "8\n",
      "9\n",
      "10\n",
      "11\n",
      "12\n",
      "13\n",
      "14\n",
      "15\n",
      "16\n",
      "17\n",
      "18\n",
      "19\n",
      "20\n",
      "21\n",
      "22\n",
      "23\n",
      "24\n",
      "25\n",
      "26\n",
      "27\n",
      "28\n",
      "29\n",
      "30\n",
      "31\n",
      "32\n",
      "33\n",
      "34\n",
      "35\n",
      "36\n",
      "37\n",
      "38\n",
      "39\n",
      "40\n",
      "41\n",
      "42\n",
      "43\n",
      "44\n",
      "45\n",
      "46\n",
      "47\n",
      "48\n",
      "49\n",
      "50\n",
      "51\n",
      "52\n",
      "53\n",
      "54\n",
      "55\n",
      "56\n",
      "57\n",
      "58\n",
      "59\n",
      "60\n",
      "61\n",
      "62\n",
      "63\n",
      "64\n",
      "65\n",
      "66\n",
      "67\n",
      "68\n",
      "69\n",
      "70\n",
      "71\n",
      "72\n",
      "73\n",
      "74\n",
      "75\n",
      "76\n",
      "77\n",
      "78\n",
      "79\n",
      "80\n",
      "81\n",
      "82\n",
      "83\n",
      "84\n",
      "85\n",
      "86\n",
      "87\n",
      "88\n",
      "89\n",
      "90\n",
      "91\n",
      "92\n",
      "93\n",
      "94\n",
      "95\n",
      "96\n",
      "97\n",
      "98\n",
      "99\n"
     ]
    }
   ],
   "source": [
    "\n",
    "for x in range(0,100):\n",
    "    \n",
    "    print(x)"
   ]
  },
  {
   "cell_type": "code",
   "execution_count": 104,
   "id": "d5f9b01d",
   "metadata": {},
   "outputs": [
    {
     "name": "stdout",
     "output_type": "stream",
     "text": [
      "Enter name:sdfghjk\n",
      "SDFGHJK\n"
     ]
    }
   ],
   "source": [
    "name = input(\"Enter name:\")\n",
    "print(name.upper())"
   ]
  },
  {
   "cell_type": "code",
   "execution_count": 112,
   "id": "659ff3c0",
   "metadata": {},
   "outputs": [],
   "source": [
    "\n",
    "def palandron(string):\n",
    "    if (string == string[::-1]):\n",
    "        return True\n",
    "    else:\n",
    "        return False"
   ]
  },
  {
   "cell_type": "code",
   "execution_count": 113,
   "id": "bfde14e9",
   "metadata": {},
   "outputs": [
    {
     "name": "stdout",
     "output_type": "stream",
     "text": [
      "True False\n"
     ]
    }
   ],
   "source": [
    "print(palandron(\"TeneT\"),palandron(\"giant\"))"
   ]
  },
  {
   "cell_type": "code",
   "execution_count": 114,
   "id": "92bd3f49",
   "metadata": {},
   "outputs": [
    {
     "name": "stdout",
     "output_type": "stream",
     "text": [
      "333\n"
     ]
    }
   ],
   "source": [
    "print(str(3)*3)"
   ]
  },
  {
   "cell_type": "code",
   "execution_count": 116,
   "id": "02838cb7",
   "metadata": {},
   "outputs": [
    {
     "name": "stdout",
     "output_type": "stream",
     "text": [
      "1\n",
      "22\n",
      "333\n",
      "4444\n",
      "55555\n",
      "666666\n",
      "7777777\n",
      "88888888\n",
      "999999999\n",
      "10101010101010101010\n",
      "1111111111111111111111\n",
      "121212121212121212121212\n",
      "13131313131313131313131313\n",
      "1414141414141414141414141414\n",
      "151515151515151515151515151515\n",
      "16161616161616161616161616161616\n",
      "1717171717171717171717171717171717\n",
      "181818181818181818181818181818181818\n",
      "19191919191919191919191919191919191919\n",
      "2020202020202020202020202020202020202020\n",
      "212121212121212121212121212121212121212121\n",
      "22222222222222222222222222222222222222222222\n",
      "2323232323232323232323232323232323232323232323\n",
      "242424242424242424242424242424242424242424242424\n",
      "25252525252525252525252525252525252525252525252525\n",
      "2626262626262626262626262626262626262626262626262626\n",
      "272727272727272727272727272727272727272727272727272727\n",
      "28282828282828282828282828282828282828282828282828282828\n",
      "2929292929292929292929292929292929292929292929292929292929\n",
      "303030303030303030303030303030303030303030303030303030303030\n",
      "31313131313131313131313131313131313131313131313131313131313131\n",
      "3232323232323232323232323232323232323232323232323232323232323232\n",
      "333333333333333333333333333333333333333333333333333333333333333333\n",
      "34343434343434343434343434343434343434343434343434343434343434343434\n",
      "3535353535353535353535353535353535353535353535353535353535353535353535\n",
      "363636363636363636363636363636363636363636363636363636363636363636363636\n",
      "37373737373737373737373737373737373737373737373737373737373737373737373737\n",
      "3838383838383838383838383838383838383838383838383838383838383838383838383838\n",
      "393939393939393939393939393939393939393939393939393939393939393939393939393939\n",
      "40404040404040404040404040404040404040404040404040404040404040404040404040404040\n",
      "4141414141414141414141414141414141414141414141414141414141414141414141414141414141\n",
      "424242424242424242424242424242424242424242424242424242424242424242424242424242424242\n",
      "43434343434343434343434343434343434343434343434343434343434343434343434343434343434343\n",
      "4444444444444444444444444444444444444444444444444444444444444444444444444444444444444444\n",
      "454545454545454545454545454545454545454545454545454545454545454545454545454545454545454545\n",
      "46464646464646464646464646464646464646464646464646464646464646464646464646464646464646464646\n",
      "4747474747474747474747474747474747474747474747474747474747474747474747474747474747474747474747\n",
      "484848484848484848484848484848484848484848484848484848484848484848484848484848484848484848484848\n",
      "49494949494949494949494949494949494949494949494949494949494949494949494949494949494949494949494949\n",
      "5050505050505050505050505050505050505050505050505050505050505050505050505050505050505050505050505050\n",
      "515151515151515151515151515151515151515151515151515151515151515151515151515151515151515151515151515151\n",
      "52525252525252525252525252525252525252525252525252525252525252525252525252525252525252525252525252525252\n",
      "5353535353535353535353535353535353535353535353535353535353535353535353535353535353535353535353535353535353\n",
      "545454545454545454545454545454545454545454545454545454545454545454545454545454545454545454545454545454545454\n",
      "55555555555555555555555555555555555555555555555555555555555555555555555555555555555555555555555555555555555555\n",
      "5656565656565656565656565656565656565656565656565656565656565656565656565656565656565656565656565656565656565656\n",
      "575757575757575757575757575757575757575757575757575757575757575757575757575757575757575757575757575757575757575757\n",
      "58585858585858585858585858585858585858585858585858585858585858585858585858585858585858585858585858585858585858585858\n",
      "5959595959595959595959595959595959595959595959595959595959595959595959595959595959595959595959595959595959595959595959\n",
      "606060606060606060606060606060606060606060606060606060606060606060606060606060606060606060606060606060606060606060606060\n",
      "61616161616161616161616161616161616161616161616161616161616161616161616161616161616161616161616161616161616161616161616161\n",
      "6262626262626262626262626262626262626262626262626262626262626262626262626262626262626262626262626262626262626262626262626262\n",
      "636363636363636363636363636363636363636363636363636363636363636363636363636363636363636363636363636363636363636363636363636363\n",
      "64646464646464646464646464646464646464646464646464646464646464646464646464646464646464646464646464646464646464646464646464646464\n",
      "6565656565656565656565656565656565656565656565656565656565656565656565656565656565656565656565656565656565656565656565656565656565\n",
      "666666666666666666666666666666666666666666666666666666666666666666666666666666666666666666666666666666666666666666666666666666666666\n",
      "67676767676767676767676767676767676767676767676767676767676767676767676767676767676767676767676767676767676767676767676767676767676767\n",
      "6868686868686868686868686868686868686868686868686868686868686868686868686868686868686868686868686868686868686868686868686868686868686868\n",
      "696969696969696969696969696969696969696969696969696969696969696969696969696969696969696969696969696969696969696969696969696969696969696969\n",
      "70707070707070707070707070707070707070707070707070707070707070707070707070707070707070707070707070707070707070707070707070707070707070707070\n",
      "7171717171717171717171717171717171717171717171717171717171717171717171717171717171717171717171717171717171717171717171717171717171717171717171\n",
      "727272727272727272727272727272727272727272727272727272727272727272727272727272727272727272727272727272727272727272727272727272727272727272727272\n",
      "73737373737373737373737373737373737373737373737373737373737373737373737373737373737373737373737373737373737373737373737373737373737373737373737373\n",
      "7474747474747474747474747474747474747474747474747474747474747474747474747474747474747474747474747474747474747474747474747474747474747474747474747474\n",
      "757575757575757575757575757575757575757575757575757575757575757575757575757575757575757575757575757575757575757575757575757575757575757575757575757575\n",
      "76767676767676767676767676767676767676767676767676767676767676767676767676767676767676767676767676767676767676767676767676767676767676767676767676767676\n",
      "7777777777777777777777777777777777777777777777777777777777777777777777777777777777777777777777777777777777777777777777777777777777777777777777777777777777\n",
      "787878787878787878787878787878787878787878787878787878787878787878787878787878787878787878787878787878787878787878787878787878787878787878787878787878787878\n",
      "79797979797979797979797979797979797979797979797979797979797979797979797979797979797979797979797979797979797979797979797979797979797979797979797979797979797979\n",
      "8080808080808080808080808080808080808080808080808080808080808080808080808080808080808080808080808080808080808080808080808080808080808080808080808080808080808080\n",
      "818181818181818181818181818181818181818181818181818181818181818181818181818181818181818181818181818181818181818181818181818181818181818181818181818181818181818181\n",
      "82828282828282828282828282828282828282828282828282828282828282828282828282828282828282828282828282828282828282828282828282828282828282828282828282828282828282828282\n",
      "8383838383838383838383838383838383838383838383838383838383838383838383838383838383838383838383838383838383838383838383838383838383838383838383838383838383838383838383\n",
      "848484848484848484848484848484848484848484848484848484848484848484848484848484848484848484848484848484848484848484848484848484848484848484848484848484848484848484848484\n",
      "85858585858585858585858585858585858585858585858585858585858585858585858585858585858585858585858585858585858585858585858585858585858585858585858585858585858585858585858585\n",
      "8686868686868686868686868686868686868686868686868686868686868686868686868686868686868686868686868686868686868686868686868686868686868686868686868686868686868686868686868686\n",
      "878787878787878787878787878787878787878787878787878787878787878787878787878787878787878787878787878787878787878787878787878787878787878787878787878787878787878787878787878787\n",
      "88888888888888888888888888888888888888888888888888888888888888888888888888888888888888888888888888888888888888888888888888888888888888888888888888888888888888888888888888888888\n",
      "8989898989898989898989898989898989898989898989898989898989898989898989898989898989898989898989898989898989898989898989898989898989898989898989898989898989898989898989898989898989\n",
      "909090909090909090909090909090909090909090909090909090909090909090909090909090909090909090909090909090909090909090909090909090909090909090909090909090909090909090909090909090909090\n",
      "91919191919191919191919191919191919191919191919191919191919191919191919191919191919191919191919191919191919191919191919191919191919191919191919191919191919191919191919191919191919191\n",
      "9292929292929292929292929292929292929292929292929292929292929292929292929292929292929292929292929292929292929292929292929292929292929292929292929292929292929292929292929292929292929292\n",
      "939393939393939393939393939393939393939393939393939393939393939393939393939393939393939393939393939393939393939393939393939393939393939393939393939393939393939393939393939393939393939393\n",
      "94949494949494949494949494949494949494949494949494949494949494949494949494949494949494949494949494949494949494949494949494949494949494949494949494949494949494949494949494949494949494949494\n",
      "9595959595959595959595959595959595959595959595959595959595959595959595959595959595959595959595959595959595959595959595959595959595959595959595959595959595959595959595959595959595959595959595\n",
      "969696969696969696969696969696969696969696969696969696969696969696969696969696969696969696969696969696969696969696969696969696969696969696969696969696969696969696969696969696969696969696969696\n",
      "97979797979797979797979797979797979797979797979797979797979797979797979797979797979797979797979797979797979797979797979797979797979797979797979797979797979797979797979797979797979797979797979797\n",
      "9898989898989898989898989898989898989898989898989898989898989898989898989898989898989898989898989898989898989898989898989898989898989898989898989898989898989898989898989898989898989898989898989898\n",
      "999999999999999999999999999999999999999999999999999999999999999999999999999999999999999999999999999999999999999999999999999999999999999999999999999999999999999999999999999999999999999999999999999999\n"
     ]
    }
   ],
   "source": [
    "for i in range(1,100):\n",
    "    x = str(i)\n",
    "    print(x*i)"
   ]
  },
  {
   "cell_type": "code",
   "execution_count": 9,
   "id": "88d14453",
   "metadata": {},
   "outputs": [
    {
     "name": "stdout",
     "output_type": "stream",
     "text": [
      "Enter the number, when dome type exit:1\n",
      "Enter the number, when dome type exit:2\n",
      "Enter the number, when dome type exit:2\n",
      "Enter the number, when dome type exit:2\n",
      "Enter the number, when dome type exit:2\n",
      "Enter the number, when dome type exit:3\n",
      "Enter the number, when dome type exit:3\n",
      "Enter the number, when dome type exit:5\n",
      "Enter the number, when dome type exit:6\n",
      "Enter the number, when dome type exit:exit\n",
      "[1, 2, 2, 2, 2, 3, 3, 5, 6]\n"
     ]
    }
   ],
   "source": [
    "import statistics\n",
    "\n",
    "L =[]\n",
    "\n",
    "condition = True\n",
    "\n",
    "while condition:\n",
    "    N = input(\"Enter the number, when dome type exit:\")\n",
    "    if N == \"exit\":\n",
    "        condition = False\n",
    "    else:\n",
    "        L.append(int(N))\n",
    "print(L)            "
   ]
  },
  {
   "cell_type": "code",
   "execution_count": 14,
   "id": "638dbbdc",
   "metadata": {},
   "outputs": [
    {
     "name": "stdout",
     "output_type": "stream",
     "text": [
      "Mean 2.888888888888889\n",
      "Median 2\n",
      "Mode 2\n"
     ]
    }
   ],
   "source": [
    "import statistics\n",
    "\n",
    "mean = statistics.mean(L)\n",
    "print(\"Mean\", mean)\n",
    "\n",
    "median = statistics.median(L)\n",
    "print(\"Median\", median)\n",
    "\n",
    "mode = statistics.mode(L)\n",
    "print(\"Mode\", mode)"
   ]
  },
  {
   "cell_type": "code",
   "execution_count": 17,
   "id": "aeb71783",
   "metadata": {},
   "outputs": [
    {
     "name": "stdout",
     "output_type": "stream",
     "text": [
      "[0, 6, 6, 7, 7, 9, 9, 23, 89, 89, 4456]\n",
      "11\n"
     ]
    }
   ],
   "source": [
    "l1 = [23,4456,6,6,7,7,89,9,9,0,89]\n",
    "print(sorted(l1))\n",
    "\n",
    "print(len(sorted(l1)))"
   ]
  },
  {
   "cell_type": "code",
   "execution_count": 18,
   "id": "2ba68af2",
   "metadata": {},
   "outputs": [],
   "source": [
    "def splitprint(a):\n",
    "    word_list= a.split(\" \")\n",
    "    for i in word_list:\n",
    "        print(i)\n",
    "    "
   ]
  },
  {
   "cell_type": "code",
   "execution_count": 19,
   "id": "782d4caf",
   "metadata": {},
   "outputs": [
    {
     "name": "stdout",
     "output_type": "stream",
     "text": [
      "Type a String:I Love Python\n",
      "I\n",
      "Love\n",
      "Python\n"
     ]
    }
   ],
   "source": [
    "c = input(\"Type a String:\")\n",
    "splitprint(c)"
   ]
  },
  {
   "cell_type": "code",
   "execution_count": 23,
   "id": "f442759f",
   "metadata": {},
   "outputs": [
    {
     "name": "stdout",
     "output_type": "stream",
     "text": [
      "My \n",
      "\n",
      "1\n",
      "\n",
      "2\n",
      "\n",
      "Dhruv\n",
      "\n",
      "Kumar\n",
      "\n",
      "3\n",
      "\n",
      "A \n",
      "\n",
      "Student\n",
      "\n",
      "4 \n",
      "\n",
      "Agartala \n",
      "\n",
      "5\n",
      "\n",
      "Love \n",
      "\n",
      "7\n",
      "\n",
      "Do \n",
      "\n",
      "9\n",
      "\n",
      "10\n"
     ]
    }
   ],
   "source": [
    "file = open('sample.txt', 'r')\n",
    "lines = file.readlines()\n",
    "file.close()\n",
    "\n",
    "for i in lines:\n",
    "    print(i)"
   ]
  },
  {
   "cell_type": "code",
   "execution_count": 27,
   "id": "1ff933a5",
   "metadata": {},
   "outputs": [
    {
     "name": "stdout",
     "output_type": "stream",
     "text": [
      "line 1  contained a Number: 1.0\n",
      "line 2  contained a Number: 2.0\n",
      "line 5  contained a Number: 3.0\n",
      "line 8  contained a Number: 4.0\n",
      "line 10  contained a Number: 5.0\n",
      "line 12  contained a Number: 7.0\n",
      "line 14  contained a Number: 9.0\n",
      "line 15  contained a Number: 10.0\n"
     ]
    }
   ],
   "source": [
    "for i, rows in enumerate(lines):\n",
    "    \n",
    "    try:\n",
    "        float(rows)\n",
    "        print(\"line \"+str(i) +\"  contained a Number:\", float(rows))\n",
    "    except ValueError:\n",
    "        continue"
   ]
  },
  {
   "cell_type": "code",
   "execution_count": 29,
   "id": "2bf39326",
   "metadata": {},
   "outputs": [
    {
     "name": "stdout",
     "output_type": "stream",
     "text": [
      "['Firstpost reviewed, \"In Sumit Sambhal Lega, the dialogues are neither particularly funny nor sparkling. Everybody Loves Raymond or Full House or FRIENDS are great examples of how American television writing grabs your attention from the very first scene with its writing. Unfortunately, the emphasis in India appears to be on the packaging instead of the writing. Neither is Everybody Loves Raymond, but you get drawn to the show because of the hilarious repartee and dialogues, the banter between characters, and the very believable reactions. Nothing was over-the-top or seemed illogical.Daily News and Analysis stated, \"The makers have failed to bring the humor, the punch lines and the spunk of the original show. This is a light-hearted and breezy comedy laced with a subtle message that does touch a chord at times. The humour in Everybody Loves Raymond comes from the witty dialogue and the one-liners, which is missing in Sumit.\"[16] Criticizing the characters, they said, \"From the casting to the writing, the series is a complete letdown. Namit Das as Sumit comes across more as a whiny wimp than Ray Romano\\'s Raymond, who was more spunky and entertaining. Mansi Parekh, who steps into Patricia Heaton\\'s shoes is adequate, but not as funny as the latter was. The otherwise talented Bharti Achrekar who plays Dolly Walia is over-the-top (her boy cut and loud make-up add to it). Satish Kaushik as Jasbir Walia delivers a good performance as the obese and always hungry father while Vikram Kocchar as Sumit\\'s elder brother is annoying and thankfully doesn\\'t have much to do.India Today stated, \"Namit would have been doing the job well enough had the makers NOT touted Sumit Sambhal Lega as Everybody Loves Raymond\\'s Indian adaptation. With a heavy heart, though, the sloppy, extremely-difficult-to-love character Kaushik is now playing in Sumit Sambhal Lega does not do justice to the man\\'s stature and experience of 33 years. And his on-screen wife, Bharati Achrekar is not helping the cause either. Thanks to the short boy-cut hair and ostentatious portrayal of her can\\'t-let-go-of affection for Sumit, the battle between her and Manasi Parekh Gohil is organically won by the latter--Maya Walia being the closest to her touted original, Debra Barone.Hindustan Times said, \"It is definitely different than what is being shown on other channels and brings a breath of freshness with light, harmless comedy.\" Stating about the characters, they reviewed, \"Namit Das as Sumit looks like any \\'husband-next-door\\' but needs to brush up his comic timing. Manasi Parekh is Maya, the wife, and plays her part well. Bharati Achrekar plays the mom who doesn\\'t know the word \\'Privacy\\'. The funniest one however is Satish Kaushik who plays the forever-hungry father.\" However they also expressed to improve the plot and funnier dialogues.News 18 quoted the series as a refreshing change stating, \"Subtle humor on Indian television has been missing for a long time and sitcoms revolving around urban milieu had become a rarity. \\'Sumit Sambhal Lega\\' has emerged as a refreshing change as it is a throwback to light-hearted family comedies.']\n"
     ]
    },
    {
     "data": {
      "text/plain": [
       "list"
      ]
     },
     "execution_count": 29,
     "metadata": {},
     "output_type": "execute_result"
    }
   ],
   "source": [
    "sumit = open('Sumit.txt' , 'r')\n",
    "lines = sumit.readlines()\n",
    "sumit.close()\n",
    "\n",
    "print(lines)\n",
    "type(lines)\n"
   ]
  },
  {
   "cell_type": "code",
   "execution_count": 31,
   "id": "d6cbb0db",
   "metadata": {},
   "outputs": [
    {
     "name": "stdout",
     "output_type": "stream",
     "text": [
      "['Firstpost reviewed, \"In Sumit Sambhal Lega, the dialogues are neither particularly funny nor sparkling', ' Everybody Loves Raymond or Full House or FRIENDS are great examples of how American television writing grabs your attention from the very first scene with its writing', ' Unfortunately, the emphasis in India appears to be on the packaging instead of the writing', ' Neither is Everybody Loves Raymond, but you get drawn to the show because of the hilarious repartee and dialogues, the banter between characters, and the very believable reactions', ' Nothing was over-the-top or seemed illogical', 'Daily News and Analysis stated, \"The makers have failed to bring the humor, the punch lines and the spunk of the original show', ' This is a light-hearted and breezy comedy laced with a subtle message that does touch a chord at times', ' The humour in Everybody Loves Raymond comes from the witty dialogue and the one-liners, which is missing in Sumit', '\"[16] Criticizing the characters, they said, \"From the casting to the writing, the series is a complete letdown', \" Namit Das as Sumit comes across more as a whiny wimp than Ray Romano's Raymond, who was more spunky and entertaining\", \" Mansi Parekh, who steps into Patricia Heaton's shoes is adequate, but not as funny as the latter was\", ' The otherwise talented Bharti Achrekar who plays Dolly Walia is over-the-top (her boy cut and loud make-up add to it)', \" Satish Kaushik as Jasbir Walia delivers a good performance as the obese and always hungry father while Vikram Kocchar as Sumit's elder brother is annoying and thankfully doesn't have much to do\", 'India Today stated, \"Namit would have been doing the job well enough had the makers NOT touted Sumit Sambhal Lega as Everybody Loves Raymond\\'s Indian adaptation', \" With a heavy heart, though, the sloppy, extremely-difficult-to-love character Kaushik is now playing in Sumit Sambhal Lega does not do justice to the man's stature and experience of 33 years\", ' And his on-screen wife, Bharati Achrekar is not helping the cause either', \" Thanks to the short boy-cut hair and ostentatious portrayal of her can't-let-go-of affection for Sumit, the battle between her and Manasi Parekh Gohil is organically won by the latter--Maya Walia being the closest to her touted original, Debra Barone\", 'Hindustan Times said, \"It is definitely different than what is being shown on other channels and brings a breath of freshness with light, harmless comedy', '\" Stating about the characters, they reviewed, \"Namit Das as Sumit looks like any \\'husband-next-door\\' but needs to brush up his comic timing', ' Manasi Parekh is Maya, the wife, and plays her part well', \" Bharati Achrekar plays the mom who doesn't know the word 'Privacy'\", ' The funniest one however is Satish Kaushik who plays the forever-hungry father', '\" However they also expressed to improve the plot and funnier dialogues', 'News 18 quoted the series as a refreshing change stating, \"Subtle humor on Indian television has been missing for a long time and sitcoms revolving around urban milieu had become a rarity', \" 'Sumit Sambhal Lega' has emerged as a refreshing change as it is a throwback to light-hearted family comedies\", '']\n"
     ]
    }
   ],
   "source": [
    "for i in lines:\n",
    "    sentance = i.split(\".\")\n",
    "    print(sentance)\n",
    "# the list is seperated by the fullstop sign into small sentances\n"
   ]
  },
  {
   "cell_type": "code",
   "execution_count": 32,
   "id": "9fe373d1",
   "metadata": {},
   "outputs": [
    {
     "name": "stdout",
     "output_type": "stream",
     "text": [
      "first_word:  Firstpost  Number of Words: 14\n",
      "first_word:  Everybody  Number of Words: 27\n",
      "first_word:  Unfortunately,  Number of Words: 15\n",
      "first_word:  Neither  Number of Words: 28\n",
      "first_word:  Nothing  Number of Words: 28\n",
      "first_word:  This  Number of Words: 19\n",
      "first_word:  The  Number of Words: 36\n",
      "first_word:  Namit  Number of Words: 21\n",
      "first_word:  Mansi  Number of Words: 18\n",
      "first_word:  The  Number of Words: 20\n",
      "first_word:  Satish  Number of Words: 57\n",
      "first_word:  With  Number of Words: 30\n",
      "first_word:  And  Number of Words: 12\n",
      "first_word:  Thanks  Number of Words: 85\n",
      "first_word:  Manasi  Number of Words: 11\n",
      "first_word:  Bharati  Number of Words: 11\n",
      "first_word:  The  Number of Words: 54\n",
      "first_word:  'Sumit  Number of Words: 18\n"
     ]
    }
   ],
   "source": [
    "outfile = open(\"output.txt\", 'w')\n",
    "\n",
    "for i in lines:\n",
    "    sentance = i.split(\". \")\n",
    "    \n",
    "    for sen in sentance:\n",
    "        \n",
    "        first_word = sen.split(\" \")[0]\n",
    "        number_of_words = len(sen.split(\" \"))\n",
    "        \n",
    "        print(\"first_word: \", first_word,\" Number of Words:\", number_of_words)\n",
    "        outfile.write(\"first_word\" + first_word+ \"Number of Words:\" + str(number_of_words)+\"\\n\")\n",
    "        \n",
    "outfile.close()        \n",
    "        "
   ]
  },
  {
   "cell_type": "code",
   "execution_count": null,
   "id": "1f7038e4",
   "metadata": {},
   "outputs": [],
   "source": []
  }
 ],
 "metadata": {
  "kernelspec": {
   "display_name": "Python 3",
   "language": "python",
   "name": "python3"
  },
  "language_info": {
   "codemirror_mode": {
    "name": "ipython",
    "version": 3
   },
   "file_extension": ".py",
   "mimetype": "text/x-python",
   "name": "python",
   "nbconvert_exporter": "python",
   "pygments_lexer": "ipython3",
   "version": "3.8.8"
  }
 },
 "nbformat": 4,
 "nbformat_minor": 5
}
