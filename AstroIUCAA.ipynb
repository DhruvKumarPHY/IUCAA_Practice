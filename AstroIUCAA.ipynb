{
 "cells": [
  {
   "cell_type": "code",
   "execution_count": 15,
   "id": "b2e4cb1d",
   "metadata": {},
   "outputs": [
    {
     "name": "stdout",
     "output_type": "stream",
     "text": [
      "Hi BabY\n",
      "P i a\n",
      "HiHiHi\n"
     ]
    },
    {
     "data": {
      "text/plain": [
       "'yhn'"
      ]
     },
     "execution_count": 15,
     "metadata": {},
     "output_type": "execute_result"
    }
   ],
   "source": [
    "a = \"Hi\" ; b = \" BabY\"\n",
    "c = a + b\n",
    "print(c)\n",
    "\n",
    "x = \"Python Rocks !!!\"\n",
    "print(x[0], a[-1],  b[-3])\n",
    "print(a*3)\n",
    "len(a), len(b)\n",
    "\n",
    "x[1:6:2]"
   ]
  },
  {
   "cell_type": "code",
   "execution_count": 50,
   "id": "1129feab",
   "metadata": {},
   "outputs": [
    {
     "name": "stdout",
     "output_type": "stream",
     "text": [
      "['__add__', '__class__', '__contains__', '__delattr__', '__dir__', '__doc__', '__eq__', '__format__', '__ge__', '__getattribute__', '__getitem__', '__getnewargs__', '__gt__', '__hash__', '__init__', '__init_subclass__', '__iter__', '__le__', '__len__', '__lt__', '__mod__', '__mul__', '__ne__', '__new__', '__reduce__', '__reduce_ex__', '__repr__', '__rmod__', '__rmul__', '__setattr__', '__sizeof__', '__str__', '__subclasshook__', 'capitalize', 'casefold', 'center', 'count', 'encode', 'endswith', 'expandtabs', 'find', 'format', 'format_map', 'index', 'isalnum', 'isalpha', 'isascii', 'isdecimal', 'isdigit', 'isidentifier', 'islower', 'isnumeric', 'isprintable', 'isspace', 'istitle', 'isupper', 'join', 'ljust', 'lower', 'lstrip', 'maketrans', 'partition', 'replace', 'rfind', 'rindex', 'rjust', 'rpartition', 'rsplit', 'rstrip', 'split', 'splitlines', 'startswith', 'strip', 'swapcase', 'title', 'translate', 'upper', 'zfill']\n",
      "Help on built-in function find:\n",
      "\n",
      "find(...) method of builtins.str instance\n",
      "    S.find(sub[, start[, end]]) -> int\n",
      "    \n",
      "    Return the lowest index in S where substring sub is found,\n",
      "    such that sub is contained within S[start:end].  Optional\n",
      "    arguments start and end are interpreted as in slice notation.\n",
      "    \n",
      "    Return -1 on failure.\n",
      "\n"
     ]
    }
   ],
   "source": [
    "a = \"   I am a string, i am an object , i am immutable!    \"\n",
    "a.title()\n",
    "a.split(\",\")\n",
    "a.strip()\n",
    "print(dir(a))\n",
    "help(a.find)\n"
   ]
  },
  {
   "cell_type": "code",
   "execution_count": 35,
   "id": "54c66d38",
   "metadata": {},
   "outputs": [
    {
     "name": "stdout",
     "output_type": "stream",
     "text": [
      "Enter Value of  a: 6\n",
      "Enter Value of b :7\n",
      "Addition = 13.0 , Difference = -1.0 \n",
      "Multiplacation = 42.0 , Division = 0.9\n"
     ]
    }
   ],
   "source": [
    "#Lets Go \n",
    "\n",
    "a = float(input('Enter Value of  a: '))\n",
    "b = float(input('Enter Value of b :'))\n",
    "\n",
    "c , d = a + b , a - b\n",
    "e , f = a * b , a / b\n",
    "\n",
    "\n",
    "print(\"Addition = %.1f , Difference = %.1f \" % (c,d) )\n",
    "print(\"Multiplacation = %.1f , Division = %.1f\" % (e,f))"
   ]
  },
  {
   "cell_type": "code",
   "execution_count": 38,
   "id": "6a94a3bc",
   "metadata": {},
   "outputs": [
    {
     "ename": "SyntaxError",
     "evalue": "cannot assign to literal (<ipython-input-38-1af8d2f85558>, line 1)",
     "output_type": "error",
     "traceback": [
      "\u001b[0;36m  File \u001b[0;32m\"<ipython-input-38-1af8d2f85558>\"\u001b[0;36m, line \u001b[0;32m1\u001b[0m\n\u001b[0;31m    gal_name = 'NGC 7709' , int_bmagnitude = 13.6\u001b[0m\n\u001b[0m               ^\u001b[0m\n\u001b[0;31mSyntaxError\u001b[0m\u001b[0;31m:\u001b[0m cannot assign to literal\n"
     ]
    }
   ],
   "source": [
    "gal_name = \"NGC 7709\" , int_bmagnitude = 13.6\n",
    "\n",
    "statement1 = \"The galaxy %s has an intergrated \\\n",
    "B-band magnitude of %2f \" % (gal_name, int_bmagnitude)\n",
    "\n",
    "print (statement1)"
   ]
  },
  {
   "cell_type": "code",
   "execution_count": 39,
   "id": "5baa71dc",
   "metadata": {},
   "outputs": [
    {
     "name": "stdout",
     "output_type": "stream",
     "text": [
      "I hello; huiguguyvu% giufuyvu%vjuyfuy0vhcyc_+ \n"
     ]
    }
   ],
   "source": [
    "raw_string = r\"I hello; huiguguyvu% giufuyvu%vjuyfuy0vhcyc_+ \"\n",
    "\n",
    "print(raw_string)"
   ]
  },
  {
   "cell_type": "code",
   "execution_count": 53,
   "id": "079bd410",
   "metadata": {},
   "outputs": [
    {
     "name": "stdout",
     "output_type": "stream",
     "text": [
      "Enter a Number : 5\n",
      "5 is Odd\n"
     ]
    }
   ],
   "source": [
    "num = int(input(\"Enter a Number : \"))\n",
    "\n",
    "if num %2 == 0:\n",
    "    print(\"%i is Even\" % num);\n",
    "else: \n",
    "    print(\"%i is Odd\" % num);  "
   ]
  }
 ],
 "metadata": {
  "kernelspec": {
   "display_name": "Python 3",
   "language": "python",
   "name": "python3"
  },
  "language_info": {
   "codemirror_mode": {
    "name": "ipython",
    "version": 3
   },
   "file_extension": ".py",
   "mimetype": "text/x-python",
   "name": "python",
   "nbconvert_exporter": "python",
   "pygments_lexer": "ipython3",
   "version": "3.8.8"
  }
 },
 "nbformat": 4,
 "nbformat_minor": 5
}
