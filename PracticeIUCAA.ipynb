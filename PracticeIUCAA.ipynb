{
 "cells": [
  {
   "cell_type": "code",
   "execution_count": 11,
   "id": "3a9629d3",
   "metadata": {},
   "outputs": [
    {
     "name": "stdout",
     "output_type": "stream",
     "text": [
      "[1 2 3 4 5 6 7 8 9 0]\n",
      "4.5\n",
      "4.5\n"
     ]
    }
   ],
   "source": [
    "from astropy import stats\n",
    "import numpy as np\n",
    "data = np.array([1,2,3,4,5,6,7,8,9,0])\n",
    "clipped_data = stats.sigma_clip(data, sigma = 2, maxiters=5)\n",
    "print(clipped_data)\n",
    "print(data.mean())\n",
    "print(clipped_data.mean())"
   ]
  },
  {
   "cell_type": "code",
   "execution_count": 12,
   "id": "5e8b60ab",
   "metadata": {},
   "outputs": [
    {
     "name": "stdout",
     "output_type": "stream",
     "text": [
      "4.5\n",
      "0.0\n",
      "0.9574271077563383\n",
      "[3.60519888 5.39480112]\n"
     ]
    }
   ],
   "source": [
    "from astropy.stats import jackknife_stats\n",
    "data = np.array([1,2,3,4,5,6,7,8,9,0])\n",
    "test_stats = np.mean\n",
    "estimate ,bias, stderr, conf_interval = jackknife_stats(data, test_stats, 0.65)\n",
    "\n",
    "print(estimate)\n",
    "print(bias)\n",
    "print(stderr)\n",
    "print(conf_interval)\n"
   ]
  },
  {
   "cell_type": "code",
   "execution_count": 13,
   "id": "a01efe86",
   "metadata": {},
   "outputs": [],
   "source": [
    "from astropy import cosmology"
   ]
  },
  {
   "cell_type": "code",
   "execution_count": 14,
   "id": "63f6e4ca",
   "metadata": {},
   "outputs": [
    {
     "name": "stdout",
     "output_type": "stream",
     "text": [
      "['Planck18', 'Planck18_arXiv_v2', 'Planck15', 'Planck13', 'WMAP9', 'WMAP7', 'WMAP5']\n"
     ]
    }
   ],
   "source": [
    "print(cosmology.parameters.available)"
   ]
  },
  {
   "cell_type": "code",
   "execution_count": 15,
   "id": "cc722c8d",
   "metadata": {},
   "outputs": [],
   "source": [
    "from astropy.cosmology import WMAP9"
   ]
  },
  {
   "cell_type": "code",
   "execution_count": 16,
   "id": "dee4c6c7",
   "metadata": {},
   "outputs": [
    {
     "data": {
      "text/plain": [
       "0.037406958346647055"
      ]
     },
     "execution_count": 16,
     "metadata": {},
     "output_type": "execute_result"
    }
   ],
   "source": [
    "WMAP9.Ode(3)"
   ]
  },
  {
   "cell_type": "code",
   "execution_count": 17,
   "id": "ff28ec3a",
   "metadata": {},
   "outputs": [
    {
     "data": {
      "text/latex": [
       "$1.7213943 \\times 10^{-28} \\; \\mathrm{\\frac{g}{cm^{3}}}$"
      ],
      "text/plain": [
       "<Quantity 1.72139427e-28 g / cm3>"
      ]
     },
     "execution_count": 17,
     "metadata": {},
     "output_type": "execute_result"
    }
   ],
   "source": [
    "WMAP9.critical_density(3)"
   ]
  },
  {
   "cell_type": "code",
   "execution_count": 18,
   "id": "cfe90166",
   "metadata": {},
   "outputs": [
    {
     "data": {
      "text/latex": [
       "$3000.225 \\; \\mathrm{K}$"
      ],
      "text/plain": [
       "<Quantity 3000.225 K>"
      ]
     },
     "execution_count": 18,
     "metadata": {},
     "output_type": "execute_result"
    }
   ],
   "source": [
    "WMAP9.Tcmb(1100)"
   ]
  },
  {
   "cell_type": "code",
   "execution_count": 19,
   "id": "98d8d23f",
   "metadata": {},
   "outputs": [
    {
     "data": {
      "text/latex": [
       "$1763.9101 \\; \\mathrm{Mpc}$"
      ],
      "text/plain": [
       "<Quantity 1763.91012479 Mpc>"
      ]
     },
     "execution_count": 19,
     "metadata": {},
     "output_type": "execute_result"
    }
   ],
   "source": [
    "WMAP9.angular_diameter_distance(2)"
   ]
  },
  {
   "cell_type": "code",
   "execution_count": 20,
   "id": "26c560ad",
   "metadata": {},
   "outputs": [
    {
     "data": {
      "text/latex": [
       "$0.03171401 \\; \\mathrm{\\frac{{}^{\\prime\\prime}}{kpc}}$"
      ],
      "text/plain": [
       "<Quantity 0.03171401 arcsec / kpc>"
      ]
     },
     "execution_count": 20,
     "metadata": {},
     "output_type": "execute_result"
    }
   ],
   "source": [
    "WMAP9.arcsec_per_kpc_comoving(3)"
   ]
  },
  {
   "cell_type": "code",
   "execution_count": 21,
   "id": "8c4bf4de",
   "metadata": {},
   "outputs": [
    {
     "data": {
      "text/plain": [
       "0.25"
      ]
     },
     "execution_count": 21,
     "metadata": {},
     "output_type": "execute_result"
    }
   ],
   "source": [
    "WMAP9.scale_factor(3)"
   ]
  },
  {
   "cell_type": "code",
   "execution_count": 22,
   "id": "901401bd",
   "metadata": {},
   "outputs": [
    {
     "data": {
      "text/latex": [
       "$0.00037004235 \\; \\mathrm{Gyr}$"
      ],
      "text/plain": [
       "<Quantity 0.00037004 Gyr>"
      ]
     },
     "execution_count": 22,
     "metadata": {},
     "output_type": "execute_result"
    }
   ],
   "source": [
    "WMAP9.age(1100)\n"
   ]
  },
  {
   "cell_type": "code",
   "execution_count": 23,
   "id": "36a30ec6",
   "metadata": {},
   "outputs": [
    {
     "name": "stdout",
     "output_type": "stream",
     "text": [
      "['H', 'H0', 'Neff', 'Ob', 'Ob0', 'Ode', 'Ode0', 'Odm', 'Odm0', 'Ogamma', 'Ogamma0', 'Ok', 'Ok0', 'Om', 'Om0', 'Onu', 'Onu0', 'Tcmb', 'Tcmb0', 'Tnu', 'Tnu0', '_EdS_age', '_EdS_comoving_distance_z1z2', '_EdS_lookback_time', '_H0', '_Neff', '_Ob0', '_Ode0', '_Odm0', '_Ogamma0', '_Ok0', '_Om0', '_Onu0', '_T_hypergeometric', '_Tcmb0', '_Tnu0', '__abstractmethods__', '__class__', '__delattr__', '__dict__', '__dir__', '__doc__', '__eq__', '__format__', '__ge__', '__getattribute__', '__gt__', '__hash__', '__init__', '__init_subclass__', '__le__', '__lt__', '__module__', '__ne__', '__new__', '__reduce__', '__reduce_ex__', '__repr__', '__setattr__', '__sizeof__', '__str__', '__subclasshook__', '__weakref__', '_abc_impl', '_abs_distance_integrand_scalar', '_age', '_comoving_distance_z1z2', '_comoving_transverse_distance_z1z2', '_critical_density0', '_dS_age', '_dS_comoving_distance_z1z2', '_dS_lookback_time', '_elliptic_comoving_distance_z1z2', '_flat_age', '_flat_lookback_time', '_h', '_hubble_distance', '_hubble_time', '_hypergeometric_comoving_distance_z1z2', '_integral_age', '_integral_comoving_distance_z1z2', '_integral_lookback_time', '_inv_efunc_scalar', '_inv_efunc_scalar_args', '_lookback_time', '_lookback_time_integrand_scalar', '_massivenu', '_namelead', '_neff_per_nu', '_nmassivenu', '_nmasslessnu', '_nneutrinos', '_optimize_flat_norad', '_w_integrand', 'abs_distance_integrand', 'absorption_distance', 'age', 'angular_diameter_distance', 'angular_diameter_distance_z1z2', 'arcsec_per_kpc_comoving', 'arcsec_per_kpc_proper', 'clone', 'comoving_distance', 'comoving_transverse_distance', 'comoving_volume', 'critical_density', 'critical_density0', 'de_density_scale', 'differential_comoving_volume', 'distmod', 'efunc', 'h', 'has_massive_nu', 'hubble_distance', 'hubble_time', 'inv_efunc', 'kpc_comoving_per_arcmin', 'kpc_proper_per_arcmin', 'lookback_distance', 'lookback_time', 'lookback_time_integrand', 'luminosity_distance', 'm_nu', 'name', 'nu_relative_density', 'scale_factor', 'w']\n"
     ]
    }
   ],
   "source": [
    "print(dir(WMAP9))"
   ]
  },
  {
   "cell_type": "code",
   "execution_count": 24,
   "id": "4f5d2578",
   "metadata": {},
   "outputs": [],
   "source": [
    "import numpy as np\n",
    "import matplotlib.pyplot as plt\n",
    "from astropy.modeling import models"
   ]
  },
  {
   "cell_type": "code",
   "execution_count": 25,
   "id": "6ebc2267",
   "metadata": {},
   "outputs": [
    {
     "data": {
      "text/plain": [
       "<matplotlib.collections.PathCollection at 0x7fcae048f610>"
      ]
     },
     "execution_count": 25,
     "metadata": {},
     "output_type": "execute_result"
    },
    {
     "data": {
      "image/png": "[encoded data removed]",
      "text/plain": [
       "<Figure size 432x288 with 1 Axes>"
      ]
     },
     "metadata": {
      "needs_background": "light"
     },
     "output_type": "display_data"
    }
   ],
   "source": [
    "x = np.linspace(3,20,100)\n",
    "a = models.Gaussian1D(amplitude= 1.5 ,mean = 10,stddev= 0.77 )\n",
    "b = models.Gaussian1D(amplitude= 3.0 ,mean = 18,stddev= 0.7 )\n",
    "c = a + b\n",
    "y = c(x)\n",
    "\n",
    "plt.scatter(x,y)"
   ]
  },
  {
   "cell_type": "code",
   "execution_count": 26,
   "id": "d8340d05",
   "metadata": {},
   "outputs": [
    {
     "data": {
      "text/plain": [
       "<matplotlib.collections.PathCollection at 0x7fcac0a57100>"
      ]
     },
     "execution_count": 26,
     "metadata": {},
     "output_type": "execute_result"
    },
    {
     "data": {
      "image/png": "[encoded data removed]",
      "text/plain": [
       "<Figure size 432x288 with 1 Axes>"
      ]
     },
     "metadata": {
      "needs_background": "light"
     },
     "output_type": "display_data"
    }
   ],
   "source": [
    "# Let's Add some Noice to It with the random Function\n",
    "\n",
    "import numpy.random as nr\n",
    "\n",
    "y_noise= nr.normal(0,0.1,len(x))\n",
    "y_obs= 12+ 0.01*x**2 +y +y_noise\n",
    "plt.scatter(x,y_obs)"
   ]
  },
  {
   "cell_type": "code",
   "execution_count": 27,
   "id": "6d20559c",
   "metadata": {},
   "outputs": [
    {
     "name": "stdout",
     "output_type": "stream",
     "text": [
      "('amplitude_0', 'mean_0', 'stddev_0', 'amplitude_1', 'mean_1', 'stddev_1', 'c0_2', 'c1_2', 'c2_2')\n"
     ]
    }
   ],
   "source": [
    "model = models.Gaussian1D(amplitude=1.7,mean = 10, stddev=0.7) +\\\n",
    "        models.Gaussian1D(amplitude=3.0,mean = 18, stddev=0.777) +\\\n",
    "        models.Polynomial1D(degree=2)\n",
    "        \n",
    "print(model.param_names)"
   ]
  },
  {
   "cell_type": "code",
   "execution_count": 28,
   "id": "4e5dad80",
   "metadata": {},
   "outputs": [],
   "source": [
    "#Appling some constrains.\n",
    "def constrain_mean(model):\n",
    "    mean_0 = model.mean_1 - 1.5\n",
    "    return mean_0\n",
    "model.mean_0.tied = constrain_mean"
   ]
  },
  {
   "cell_type": "code",
   "execution_count": 29,
   "id": "c18b022a",
   "metadata": {},
   "outputs": [
    {
     "name": "stdout",
     "output_type": "stream",
     "text": [
      "('amplitude_0', 'mean_0', 'stddev_0', 'amplitude_1', 'mean_1', 'stddev_1', 'c0_2', 'c1_2', 'c2_2')\n",
      "[-1.05738774e+00  1.64689280e+01  3.15005152e+00  3.09941558e+00\n",
      "  1.79689280e+01  7.30827407e-01  1.11001384e+01  2.31705414e-01\n",
      "  2.37676837e-03]\n"
     ]
    },
    {
     "name": "stderr",
     "output_type": "stream",
     "text": [
      "WARNING: The fit may be unsuccessful; check fit_info['message'] for more information. [astropy.modeling.fitting]\n"
     ]
    }
   ],
   "source": [
    "from astropy.modeling import fitting\n",
    "fitter = fitting.LevMarLSQFitter()\n",
    "\n",
    "model_fit = fitter(model,x,y_obs)\n",
    "print(model_fit.param_names)\n",
    "print(model_fit.parameters)"
   ]
  },
  {
   "cell_type": "code",
   "execution_count": 30,
   "id": "82d14f33",
   "metadata": {},
   "outputs": [
    {
     "data": {
      "text/plain": [
       "{'amplitude_0': -1.0573877414460355,\n",
       " 'mean_0': 16.468927966853254,\n",
       " 'stddev_0': 3.150051519297147,\n",
       " 'amplitude_1': 3.0994155773002623,\n",
       " 'mean_1': 17.968927966853254,\n",
       " 'stddev_1': 0.7308274067395417,\n",
       " 'c0_2': 11.100138430436592,\n",
       " 'c1_2': 0.23170541409100265,\n",
       " 'c2_2': 0.0023767683674754242}"
      ]
     },
     "execution_count": 30,
     "metadata": {},
     "output_type": "execute_result"
    }
   ],
   "source": [
    "dict(zip(model_fit.param_names,model_fit.parameters))"
   ]
  },
  {
   "cell_type": "code",
   "execution_count": 31,
   "id": "88adabf3",
   "metadata": {},
   "outputs": [
    {
     "data": {
      "text/plain": [
       "[<matplotlib.lines.Line2D at 0x7fcad22daf40>]"
      ]
     },
     "execution_count": 31,
     "metadata": {},
     "output_type": "execute_result"
    },
    {
     "data": {
      "image/png": "[encoded data removed]",
      "text/plain": [
       "<Figure size 432x288 with 1 Axes>"
      ]
     },
     "metadata": {
      "needs_background": "light"
     },
     "output_type": "display_data"
    }
   ],
   "source": [
    "plt.scatter(x,y_obs,color='black',alpha=0.7)\n",
    "plt.plot(x,model_fit(x), color='red')"
   ]
  },
  {
   "cell_type": "code",
   "execution_count": 32,
   "id": "c6117ec5",
   "metadata": {},
   "outputs": [
    {
     "name": "stdout",
     "output_type": "stream",
     "text": [
      "0.4.5\n"
     ]
    }
   ],
   "source": [
    "import astroquery\n",
    "print(astroquery.version.version)"
   ]
  },
  {
   "cell_type": "code",
   "execution_count": 33,
   "id": "ef29a70f",
   "metadata": {},
   "outputs": [
    {
     "name": "stdout",
     "output_type": "stream",
     "text": [
      "            MAIN_ID                   RA           DEC      ...     COO_BIBCODE     SCRIPT_NUMBER_ID\n",
      "                                   \"h:m:s\"       \"d:m:s\"    ...                                     \n",
      "------------------------------- ------------- ------------- ... ------------------- ----------------\n",
      "                          M  42    05 35 17.3     -05 23 28 ... 1981MNRAS.194..693L                1\n",
      "                NAME Ori Region   05 35 17.30   -05 23 28.0 ...                                    1\n",
      "                  [FRM2016] 344 05 35 17.2210 -05 23 26.542 ... 2016ApJ...822...93F                1\n",
      "                 DOH  7 175-328    05 35 17.5     -05 23 28 ... 2004AJ....127.3456D                1\n",
      "                        MAX 126   05 35 17.11   -05 23 29.3 ... 2005AJ....129.1534R                1\n",
      "                 DOH  7 171-327    05 35 17.1     -05 23 27 ... 2004AJ....127.3456D                1\n",
      "                        MAX 125   05 35 17.11   -05 23 26.6 ... 2005AJ....129.1534R                1\n",
      "                 [OW94] 171-326    05 35 17.1     -05 23 26 ... 2004AJ....127.3456D                1\n",
      "                 DOH  7 171-325    05 35 17.1     -05 23 25 ... 2004AJ....127.3456D                1\n",
      "                        HH 1143    05 35 17.5     -05 23 25 ... 2015AJ....150..108O                1\n",
      "                 DOH  7 175-324    05 35 17.5     -05 23 24 ... 2004AJ....127.3456D                1\n",
      "                     COUP   900   05 35 17.56   -05 23 24.8 ... 2014ApJ...790...49K                1\n",
      "                   [H97b] 20001   05 35 17.22   -05 23 33.3 ... 2009A&A...502..883R                1\n",
      "                         DOH  7      05 35 17      -05 23.4 ...                                    1\n",
      "                        TCC  77  05 35 16.851  -05 23 26.71 ... 1998AJ....116..293B                1\n",
      "                 [OW94] 168-326   05 35 16.85   -05 23 26.2 ... 2014ApJ...790...49K                1\n",
      "                   V* V2299 Ori 05 35 17.0670 -05 23 34.055 ... 2018yCat.1345....0G                1\n",
      "                  [FRM2016] 327 05 35 16.9632 -05 23 33.358 ... 2016ApJ...822...93F                1\n",
      "                     COUP   885   05 35 17.45   -05 23 21.0 ... 2009ApJS..183..261D                1\n",
      "                        TCC  75 05 35 16.8258 -05 23 25.903 ... 2012ApJ...749..180C                1\n",
      "                 DOH  8 171-335    05 35 17.1     -05 23 35 ... 2004AJ....127.3456D                1\n",
      "                           LV 1    05 35 16.8     -05 23 26 ...                                    1\n",
      "                 [OW94] 169-333    05 35 16.9     -05 23 33 ... 2004AJ....127.3456D                1\n",
      "                     MLLA  423C 05 35 17.1600 -05 23 20.400 ... 2016ApJ...826...16E                1\n",
      "                  [FRM2016] 345 05 35 17.2237 -05 23 20.145 ... 2016ApJ...822...93F                1\n",
      "                  [FRM2016] 328 05 35 16.9641 -05 23 34.248 ... 2016ApJ...822...93F                1\n",
      "                        TCC  74 05 35 16.7621 -05 23 28.020 ... 2012ApJ...749..180C                1\n",
      "                  [SEM2016] 493  05 35 16.770  -05 23 26.51 ... 2016ApJ...831..155S                1\n",
      "                        PSH 164   05 35 17.05   -05 23 20.8 ...                                    1\n",
      "                  [FRM2016] 342 05 35 17.1945 -05 23 19.915 ... 2016ApJ...822...93F                1\n",
      "                 [OW94] 170-334   05 35 16.97   -05 23 34.7 ...                                    1\n",
      "                  [FRM2016] 340 05 35 17.1617 -05 23 19.923 ... 2016ApJ...822...93F                1\n",
      "                        PSH 162   05 35 17.01   -05 23 20.5 ...                                    1\n",
      "                        PSH 165   05 35 17.09   -05 23 19.9 ...                                    1\n",
      "                  * tet01 Ori F 05 35 16.7269 -05 23 25.197 ... 2018yCat.1345....0G                1\n",
      "                     COUP   933 05 35 17.9154 -05 23 26.357 ... 2016ApJ...822...93F                1\n",
      "                        TCC  71 05 35 16.6529 -05 23 28.830 ... 2012ApJ...749..180C                1\n",
      "          COUP J053517.8-052321  05 35 17.822  -05 23 21.59 ... 2005ApJS..160..319G                1\n",
      "                        HH  514   05 35 16.98   -05 23 37.0 ... 2000AJ....119.2919B                1\n",
      "                 Parenago  1894   05 35 16.97   -05 23 37.0 ... 2009ApJS..183..261D                1\n",
      "          COUP J053517.7-052320  05 35 17.755  -05 23 20.11 ... 2005ApJS..160..319G                1\n",
      "                     [HHM94]  1  05 35 17.141  -05 23 17.85 ...                                    1\n",
      "          NAME Ney-Allen Nebula    05 35 17.1     -05 23 18 ... 1994ApJ...429..726H                1\n",
      "                 [OW94] 180-328    05 35 18.0     -05 23 28 ... 2004AJ....127.3456D                1\n",
      "                        HH 1144    05 35 18.0     -05 23 31 ... 2015AJ....150..108O                1\n",
      "                  [FRM2016] 365 05 35 17.6932 -05 23 18.657 ... 2016ApJ...822...93F                1\n",
      "                     MLLA  345B   05 35 17.89   -05 23 34.8 ... 1997AJ....113.1733H                1\n",
      "                            ...           ...           ... ...                 ...              ...\n",
      "         [MLL95] J053513-052307   05 35 13.71   -05 23 07.2 ...                                    1\n",
      "                     COUP   909   05 35 17.75   -05 22 30.7 ... 2003yCat.2246....0C                1\n",
      "                        MAX  95   05 35 16.05   -05 22 33.4 ... 2005AJ....129.1534R                1\n",
      "                     [JGS92] 14  05 35 14.721  -05 22 44.98 ...                                    1\n",
      "                  [EC2006] MM15   05 35 13.96   -05 23 57.1 ... 2006ApJ...641.1162E                1\n",
      "                     COUP  1138   05 35 21.16   -05 23 33.1 ... 2009ApJS..183..261D                1\n",
      "            [MWZ90] OMC-1 FIR 3    05 35 13.8     -05 23 53 ...                                    1\n",
      "                  [FRM2016] 448 05 35 19.7060 -05 22 42.461 ... 2016ApJ...822...93F                1\n",
      "                   [EC2006] MM9   05 35 13.72   -05 23 50.6 ... 2006ApJ...641.1162E                1\n",
      "                 [OW94] 137-350    05 35 13.7     -05 23 50 ... 2003AJ....125..277O                1\n",
      "                  [ISK2007] 122    05 35 14.3     -05 24 05 ... 2007ApJ...665.1194I                1\n",
      "                     [PSA97] 4T   05 35 18.18   -05 24 24.6 ...                                    1\n",
      "       ISOY J053513.41-052329.3 05 35 13.4023 -05 23 29.225 ... 2008ApJ...677..401P                1\n",
      "                        HH 1153    05 35 14.0     -05 23 59 ... 2015AJ....150..108O                1\n",
      "                 [FDB2011] MF26   05 35 14.38   -05 22 49.4 ... 2011A&A...532A..32F                1\n",
      "                  [FRM2016] 172 05 35 14.2792 -05 24 04.960 ... 2016ApJ...822...93F                1\n",
      "                 [FDB2011] MF25   05 35 15.20   -05 22 38.7 ... 2011A&A...532A..32F                1\n",
      "            RX J053521.0-052347    05 35 21.0     -05 23 47 ...                                    1\n",
      "               1E 053249-0524.3  05 35 17.135  -05 22 29.61 ... 2004AJ....128.1254L                1\n",
      "                 DOH  1 135-314    05 35 13.5     -05 23 14 ... 2004AJ....127.3456D                1\n",
      "                      MLLA  218  05 35 15.160  -05 24 17.10 ... 2016ApJ...831..155S                1\n",
      "                  [FRM2016] 144 05 35 13.8876 -05 23 57.181 ... 2016ApJ...822...93F                1\n",
      "                   V* V1398 Ori 05 35 13.4532 -05 23 40.431 ... 2018yCat.1345....0G                1\n",
      "                 DOH 15 212-320    05 35 21.2     -05 23 20 ... 2004AJ....127.3456D                1\n",
      "        CXOONC J053514.7-052412  05 35 14.716  -05 24 12.49 ... 2005ApJS..160..319G                1\n",
      "        CXOONC J053515.1-052238   05 35 15.17   -05 22 38.4 ... 2002ApJ...574..258F                1\n",
      "                  [FRM2016] 381 05 35 17.9936 -05 22 29.990 ... 2016ApJ...822...93F                1\n",
      "                        MAX  47   05 35 13.88   -05 23 57.4 ... 2004ApJ...610L.117S                1\n",
      "        2MASS J05351953-0524166  05 35 19.538  -05 24 16.63 ... 2003yCat.2246....0C                1\n",
      "               [TH2020] Core  2   05 35 13.70   -05 23 52.4 ... 2020ApJ...893...63T                1\n",
      "                    [H97b] 9119 05 35 15.8743 -05 22 32.833 ... 2003yCat.2246....0C                1\n",
      "      [UMM2015] G209.015-09.398      05 35 14      -05 24.0 ... 2015MNRAS.446.3461U                1\n",
      "                   [H97b] 20068   05 35 16.91   -05 22 29.1 ... 2009A&A...502..883R                1\n",
      "                  [FRM2016] 114 05 35 13.3347 -05 23 29.771 ... 2016ApJ...822...93F                1\n",
      "                    [SCB99] 271  05 35 21.211  -05 23 18.04 ... 1999AJ....117.1375S                1\n",
      "                   V* V2370 Ori 05 35 20.6314 -05 22 55.690 ... 2018yCat.1345....0G                1\n",
      "                          GMR J  05 35 15.992  -05 22 31.80 ...                                    1\n",
      "                  [FRM2016] 455 05 35 19.8615 -05 22 42.406 ... 2016ApJ...822...93F                1\n",
      "[FW2011] J053514.996-052239.411  05 35 14.996  -05 22 39.41 ... 2011ApJ...742...64F                1\n",
      "    [FTC93] 053253.59-052542.02   05 35 21.04   -05 23 49.0 ...                                    1\n",
      "                 [OW94] 133-329    05 35 13.3     -05 23 29 ... 2004AJ....127.3456D                1\n",
      "                   V* V1399 Ori 05 35 21.0492 -05 23 48.989 ... 2018yCat.1345....0G                1\n",
      "                  [FRM2016] 112 05 35 13.2944 -05 23 29.674 ... 2016ApJ...822...93F                1\n",
      "                 DOH 14 210-351    05 35 21.0     -05 23 51 ... 2004AJ....127.3456D                1\n",
      "                   [H97b] 20072   05 35 16.91   -05 22 28.4 ... 2009A&A...502..883R                1\n",
      "                 [OW94] 134-342    05 35 13.4     -05 23 42 ... 2003AJ....125..277O                1\n",
      "                    [SCB99] 181  05 35 17.608  -05 22 28.24 ... 1999AJ....117.1375S                1\n",
      "            MMB G208.996-19.386   05 35 14.50   -05 22 45.0 ... 2010MNRAS.404.1029C                1\n",
      "Length = 704 rows\n"
     ]
    }
   ],
   "source": [
    "from astroquery.simbad import Simbad\n",
    "from astropy import coordinates\n",
    "import astropy.units as u\n",
    "#Work only for ICRS coordinates:\n",
    "c = coordinates.SkyCoord(\"05h35m17.3s -05d23m28s\", frame='icrs')\n",
    "r = 1* u.arcminute\n",
    "result_table = Simbad.query_region(c,radius = r)\n",
    "result_table.pprint(show_unit=True,max_width=100 ,max_lines=100)"
   ]
  },
  {
   "cell_type": "code",
   "execution_count": 34,
   "id": "4102740a",
   "metadata": {},
   "outputs": [
    {
     "name": "stdout",
     "output_type": "stream",
     "text": [
      "<class 'astropy.table.table.Table'>\n",
      "['angDist', 'ra', 'dec', '2MASS', 'RAJ2000', 'DEJ2000', 'errHalfMaj', 'errHalfMin', 'errPosAng', 'Jmag', 'Hmag', 'Kmag', 'e_Jmag', 'e_Hmag', 'e_Kmag', 'Qfl', 'Rfl', 'X', 'MeasureJD']\n"
     ]
    }
   ],
   "source": [
    "import astropy\n",
    "from astropy import units as u\n",
    "from astroquery.xmatch import XMatch\n",
    "table = XMatch.query(cat1=open('VS_Python2022/pos_list.csv'),\n",
    "                     cat2='vizier:II/246/out',\n",
    "                     max_distance=5* u.arcsec, colRA1='ra',\n",
    "                     colDec1='dec')\n",
    "print(type(table))\n",
    "print(table.colnames)"
   ]
  },
  {
   "cell_type": "code",
   "execution_count": 35,
   "id": "5929e389",
   "metadata": {},
   "outputs": [
    {
     "name": "stdout",
     "output_type": "stream",
     "text": [
      "angDist      ra       dec         2MASS       ... Qfl Rfl  X   MeasureJD  \n",
      "-------- --------- --------- ---------------- ... --- --- --- ------------\n",
      "1.352044 267.22029 -20.35869 17485281-2021323 ... EEU 226   2 2450950.8609\n",
      "1.578188 267.22029 -20.35869 17485288-2021328 ... UUB 662   2 2450950.8609\n",
      "3.699368 267.22029 -20.35869 17485264-2021294 ... UUB 662   2 2450950.8609\n",
      "3.822922 267.22029 -20.35869 17485299-2021279 ... EBA 222   2 2450950.8609\n",
      "4.576677 267.22029 -20.35869 17485255-2021326 ... CEU 226   2 2450950.8609\n",
      "0.219609 274.83971 -25.42714 18192154-2525377 ... AAA 211   0 2451407.5033\n",
      "1.633225 275.92229 -30.36572 18234133-3021582 ... EEE 222   2 2451021.7212\n",
      "0.536998 283.26621  -8.70756 18530390-0842276 ... AAA 222   0 2451301.7945\n",
      "1.178542 306.01575  33.86756 20240382+3352021 ... AAA 222   0 2450948.9708\n",
      "0.853178   322.493  12.16703 21295836+1210007 ... EEA 222   0 2451080.6935\n",
      " 4.50395   322.493  12.16703 21295861+1210023 ... EEE 222   0 2451080.6935\n"
     ]
    }
   ],
   "source": [
    "print(table)"
   ]
  },
  {
   "cell_type": "code",
   "execution_count": 36,
   "id": "abd02e37",
   "metadata": {},
   "outputs": [
    {
     "name": "stdout",
     "output_type": "stream",
     "text": [
      "       ra              dec        ...     specobjid      run2d\n",
      "---------------- ---------------- ... ------------------ -----\n",
      "2.02344596573482 14.8398237551311 ... 845594848269461504    26\n"
     ]
    }
   ],
   "source": [
    "from astroquery.sdss import SDSS\n",
    "from astropy import coordinates as coords\n",
    "pos = coords.SkyCoord('0h8m05.65s +14d50m23.3s', frame='icrs')\n",
    "xid = SDSS.query_region(pos,spectro=True)\n",
    "print(xid)"
   ]
  },
  {
   "cell_type": "code",
   "execution_count": 37,
   "id": "9f71fa6d",
   "metadata": {},
   "outputs": [
    {
     "name": "stdout",
     "output_type": "stream",
     "text": [
      "[[<astropy.io.fits.hdu.image.PrimaryHDU object at 0x7fcac0b89eb0>, <astropy.io.fits.hdu.table.BinTableHDU object at 0x7fcaf0cb9bb0>, <astropy.io.fits.hdu.table.BinTableHDU object at 0x7fcac0b894c0>, <astropy.io.fits.hdu.table.BinTableHDU object at 0x7fcaf0d4cd90>, <astropy.io.fits.hdu.table.BinTableHDU object at 0x7fcaf0d6fa00>, <astropy.io.fits.hdu.table.BinTableHDU object at 0x7fcab0512670>, <astropy.io.fits.hdu.table.BinTableHDU object at 0x7fcac0ba12e0>, <astropy.io.fits.hdu.table.BinTableHDU object at 0x7fcac0baef10>, <astropy.io.fits.hdu.table.BinTableHDU object at 0x7fcaa0055700>, <astropy.io.fits.hdu.table.BinTableHDU object at 0x7fcaa005f370>]]\n"
     ]
    }
   ],
   "source": [
    "sp =SDSS.get_spectra(matches=xid)\n",
    "print(sp)\n",
    "spec =sp[0][1].data"
   ]
  },
  {
   "cell_type": "code",
   "execution_count": 38,
   "id": "864d49f3",
   "metadata": {},
   "outputs": [
    {
     "name": "stdout",
     "output_type": "stream",
     "text": [
      "(numpy.record, [('flux', '>f4'), ('loglam', '>f4'), ('ivar', '>f4'), ('and_mask', '>i4'), ('or_mask', '>i4'), ('wdisp', '>f4'), ('sky', '>f4'), ('model', '>f4')])\n"
     ]
    },
    {
     "data": {
      "text/plain": [
       "[<matplotlib.lines.Line2D at 0x7fcac0504940>]"
      ]
     },
     "execution_count": 38,
     "metadata": {},
     "output_type": "execute_result"
    },
    {
     "data": {
      "image/png": "[encoded data removed]",
      "text/plain": [
       "<Figure size 432x288 with 1 Axes>"
      ]
     },
     "metadata": {
      "needs_background": "light"
     },
     "output_type": "display_data"
    }
   ],
   "source": [
    "import matplotlib.pyplot as plt\n",
    "print(spec.dtype)\n",
    "flux = spec['flux']\n",
    "loglam = spec['loglam']\n",
    "model=spec['model']\n",
    "plt.scatter(loglam,flux,marker='.',alpha=0.3,color='red')\n",
    "plt.plot(loglam,model)\n"
   ]
  }
 ],
 "metadata": {
  "kernelspec": {
   "display_name": "Python 3",
   "language": "python",
   "name": "python3"
  },
  "language_info": {
   "codemirror_mode": {
    "name": "ipython",
    "version": 3
   },
   "file_extension": ".py",
   "mimetype": "text/x-python",
   "name": "python",
   "nbconvert_exporter": "python",
   "pygments_lexer": "ipython3",
   "version": "3.8.8"
  }
 },
 "nbformat": 4,
 "nbformat_minor": 5
}
