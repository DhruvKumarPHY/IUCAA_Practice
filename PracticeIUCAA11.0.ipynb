{
 "cells": [
  {
   "cell_type": "code",
   "execution_count": 4,
   "id": "13eab876",
   "metadata": {},
   "outputs": [
    {
     "name": "stdout",
     "output_type": "stream",
     "text": [
      "['Puna', 'Mumbai', 'Yamunanagar']\n"
     ]
    }
   ],
   "source": [
    "cities = [\"Puna\", \"Delhi\", \"Mumbai\", \"Yamunanagar\", \"Agartala\", \"Ambala\" ]\n",
    "newlist = []\n",
    "\n",
    "for x in cities:\n",
    "     if  \"u\" in x:\n",
    "        newlist.append(x)\n",
    "print(newlist)        \n",
    "\n"
   ]
  },
  {
   "cell_type": "code",
   "execution_count": 6,
   "id": "553f15b8",
   "metadata": {},
   "outputs": [
    {
     "name": "stdout",
     "output_type": "stream",
     "text": [
      "[0, 1, 2, 3, 4, 5, 6, 7, 8, 9]\n"
     ]
    }
   ],
   "source": [
    "newlist1 = [x for x in range(10) if (x<7) or  (x>2)]\n",
    "print(newlist1)"
   ]
  }
 ],
 "metadata": {
  "kernelspec": {
   "display_name": "Python 3",
   "language": "python",
   "name": "python3"
  },
  "language_info": {
   "codemirror_mode": {
    "name": "ipython",
    "version": 3
   },
   "file_extension": ".py",
   "mimetype": "text/x-python",
   "name": "python",
   "nbconvert_exporter": "python",
   "pygments_lexer": "ipython3",
   "version": "3.8.8"
  }
 },
 "nbformat": 4,
 "nbformat_minor": 5
}
