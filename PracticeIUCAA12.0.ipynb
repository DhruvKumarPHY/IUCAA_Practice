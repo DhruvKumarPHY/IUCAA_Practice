{
 "cells": [
  {
   "cell_type": "code",
   "execution_count": 1,
   "id": "f4ade14b",
   "metadata": {},
   "outputs": [
    {
     "name": "stdout",
     "output_type": "stream",
     "text": [
      "I am a Coustrum Module\n"
     ]
    }
   ],
   "source": [
    "\"\"\"\n",
    "This is a countome made module \n",
    "containing examles IUCAA.\n",
    "\n",
    "\"\"\"\n",
    "\n",
    "def fun1():\n",
    "    print(\"Fun1 is running\")\n",
    "def fun2(): \n",
    "    print(\"Fun 2 is running\")\n",
    "    \n",
    "    \n",
    "pi = 3.14\n",
    "e = 2.7\n",
    "\n",
    "print (\"I am a Coustrum Module\")"
   ]
  }
 ],
 "metadata": {
  "kernelspec": {
   "display_name": "Python 3",
   "language": "python",
   "name": "python3"
  },
  "language_info": {
   "codemirror_mode": {
    "name": "ipython",
    "version": 3
   },
   "file_extension": ".py",
   "mimetype": "text/x-python",
   "name": "python",
   "nbconvert_exporter": "python",
   "pygments_lexer": "ipython3",
   "version": "3.8.8"
  }
 },
 "nbformat": 4,
 "nbformat_minor": 5
}
