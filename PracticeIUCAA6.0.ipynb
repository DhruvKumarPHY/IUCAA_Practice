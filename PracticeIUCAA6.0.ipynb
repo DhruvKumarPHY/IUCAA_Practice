{
 "cells": [
  {
   "cell_type": "code",
   "execution_count": 4,
   "id": "a2274ba9",
   "metadata": {},
   "outputs": [
    {
     "name": "stdout",
     "output_type": "stream",
     "text": [
      "[-- -- 3 4 5]\n",
      "3.0\n",
      "2.75\n"
     ]
    }
   ],
   "source": [
    "import numpy as np \n",
    "import numpy.ma as ma\n",
    "\n",
    "\n",
    "x = np.array([1,2,3,4,5])\n",
    "mx = ma.masked_array(x, mask=[0,0,0,1,0])\n",
    "mx2 = ma.masked_array(x, mask=[True,True, 0,0,0])\n",
    "\n",
    "print(mx2)\n",
    "print(x.mean())\n",
    "print(mx.mean())\n"
   ]
  },
  {
   "cell_type": "code",
   "execution_count": 6,
   "id": "153da8c4",
   "metadata": {},
   "outputs": [
    {
     "name": "stdout",
     "output_type": "stream",
     "text": [
      "499500\n",
      "499500\n"
     ]
    }
   ],
   "source": [
    "a = np.arange(1000) \n",
    "\n",
    "print(a.sum())\n",
    "\n",
    "print(np.sum(a))"
   ]
  },
  {
   "cell_type": "code",
   "execution_count": 10,
   "id": "82b37d40",
   "metadata": {},
   "outputs": [
    {
     "name": "stdout",
     "output_type": "stream",
     "text": [
      "[[1. 2. 3. 4.]]\n"
     ]
    }
   ],
   "source": [
    "x1 = np.array([1,2,3,4],float)\n",
    "x2 = np.matrix(x1)\n",
    "\n",
    "print(x2)"
   ]
  },
  {
   "cell_type": "code",
   "execution_count": 12,
   "id": "ba371320",
   "metadata": {},
   "outputs": [
    {
     "name": "stdout",
     "output_type": "stream",
     "text": [
      "[[1. 0. 0.]\n",
      " [0. 1. 0.]\n",
      " [0. 0. 1.]]\n"
     ]
    }
   ],
   "source": [
    "A = np.identity(3)\n",
    "print(A)"
   ]
  },
  {
   "cell_type": "code",
   "execution_count": 17,
   "id": "f71e3f5d",
   "metadata": {},
   "outputs": [
    {
     "name": "stdout",
     "output_type": "stream",
     "text": [
      "[[1. 0. 0.]\n",
      " [0. 1. 0.]\n",
      " [0. 0. 1.]]\n"
     ]
    }
   ],
   "source": [
    "a =  np.matrix(A) * 5\n",
    "print(A)"
   ]
  }
 ],
 "metadata": {
  "kernelspec": {
   "display_name": "Python 3",
   "language": "python",
   "name": "python3"
  },
  "language_info": {
   "codemirror_mode": {
    "name": "ipython",
    "version": 3
   },
   "file_extension": ".py",
   "mimetype": "text/x-python",
   "name": "python",
   "nbconvert_exporter": "python",
   "pygments_lexer": "ipython3",
   "version": "3.8.8"
  }
 },
 "nbformat": 4,
 "nbformat_minor": 5
}
