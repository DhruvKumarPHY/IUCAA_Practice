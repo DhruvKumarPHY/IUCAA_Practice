{
 "cells": [
  {
   "cell_type": "code",
   "execution_count": 27,
   "id": "0b4b14a6",
   "metadata": {},
   "outputs": [
    {
     "name": "stdout",
     "output_type": "stream",
     "text": [
      "[[2. 2. 2. 0.]\n",
      " [2. 2. 2. 0.]\n",
      " [2. 2. 2. 0.]\n",
      " [0. 0. 0. 0.]]\n"
     ]
    }
   ],
   "source": [
    "import numpy as np\n",
    "\n",
    "a =np.zeros((4,4))\n",
    "\n",
    "a[0:3, 0:3] = 2\n",
    "\n",
    "print(a)"
   ]
  },
  {
   "cell_type": "code",
   "execution_count": 28,
   "id": "a0e05eef",
   "metadata": {},
   "outputs": [
    {
     "name": "stdout",
     "output_type": "stream",
     "text": [
      "[[5. 5. 2. 0.]\n",
      " [5. 5. 2. 0.]\n",
      " [5. 5. 2. 0.]\n",
      " [3. 3. 0. 0.]]\n"
     ]
    }
   ],
   "source": [
    "a[:,0:2] += 3 \n",
    "print(a)"
   ]
  },
  {
   "cell_type": "code",
   "execution_count": 29,
   "id": "7fa2e709",
   "metadata": {},
   "outputs": [
    {
     "name": "stdout",
     "output_type": "stream",
     "text": [
      "[5. 5. 2. 0.]\n"
     ]
    }
   ],
   "source": [
    "print(a[0,...])"
   ]
  },
  {
   "cell_type": "code",
   "execution_count": 31,
   "id": "22fa2e0c",
   "metadata": {},
   "outputs": [
    {
     "name": "stdout",
     "output_type": "stream",
     "text": [
      "[0 1 2 3 4 5 6 7 8 9]\n",
      "[ 0  1  2  3  4  5  6  7  8  9 10 11 12 13 14 15 16 17 18 19]\n"
     ]
    }
   ],
   "source": [
    "data = np.arange(10)\n",
    "data2 = np.arange (20)\n",
    "\n",
    "print(data)\n",
    "print(data2)"
   ]
  }
 ],
 "metadata": {
  "kernelspec": {
   "display_name": "Python 3",
   "language": "python",
   "name": "python3"
  },
  "language_info": {
   "codemirror_mode": {
    "name": "ipython",
    "version": 3
   },
   "file_extension": ".py",
   "mimetype": "text/x-python",
   "name": "python",
   "nbconvert_exporter": "python",
   "pygments_lexer": "ipython3",
   "version": "3.8.8"
  }
 },
 "nbformat": 4,
 "nbformat_minor": 5
}
